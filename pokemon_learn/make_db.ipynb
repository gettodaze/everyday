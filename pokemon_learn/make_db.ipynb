{
 "cells": [
  {
   "cell_type": "code",
   "execution_count": 4,
   "metadata": {},
   "outputs": [],
   "source": [
    "import pandas as pd\n",
    "file = \"excel_database.xlsx\"\n",
    "xl = pd.read_excel(file)"
   ]
  },
  {
   "cell_type": "code",
   "execution_count": 5,
   "metadata": {},
   "outputs": [
    {
     "data": {
      "text/html": [
       "<div>\n",
       "<style scoped>\n",
       "    .dataframe tbody tr th:only-of-type {\n",
       "        vertical-align: middle;\n",
       "    }\n",
       "\n",
       "    .dataframe tbody tr th {\n",
       "        vertical-align: top;\n",
       "    }\n",
       "\n",
       "    .dataframe thead th {\n",
       "        text-align: right;\n",
       "    }\n",
       "</style>\n",
       "<table border=\"1\" class=\"dataframe\">\n",
       "  <thead>\n",
       "    <tr style=\"text-align: right;\">\n",
       "      <th></th>\n",
       "      <th>dex_num</th>\n",
       "      <th>img</th>\n",
       "      <th>eng_name</th>\n",
       "      <th>eng_etym</th>\n",
       "      <th>jp_name</th>\n",
       "      <th>jp_etym</th>\n",
       "    </tr>\n",
       "  </thead>\n",
       "  <tbody>\n",
       "    <tr>\n",
       "      <th>0</th>\n",
       "      <td>1</td>\n",
       "      <td>img\\001</td>\n",
       "      <td>Bulbasaur</td>\n",
       "      <td>bulb: 球根 + saur: (dinosaur) 恐竜</td>\n",
       "      <td>フシギダネ</td>\n",
       "      <td>フシギ: (不思議) mysterious + タネ (種) seed</td>\n",
       "    </tr>\n",
       "    <tr>\n",
       "      <th>1</th>\n",
       "      <td>2</td>\n",
       "      <td>img\\002</td>\n",
       "      <td>Ivysaur</td>\n",
       "      <td>ivy: na + saur: (dinosaur) 恐竜</td>\n",
       "      <td>フシギソウ</td>\n",
       "      <td>フシギ: (不思議) mysterious + ソウ (草) alt reading for...</td>\n",
       "    </tr>\n",
       "  </tbody>\n",
       "</table>\n",
       "</div>"
      ],
      "text/plain": [
       "   dex_num      img   eng_name                        eng_etym jp_name  \\\n",
       "0        1  img\\001  Bulbasaur  bulb: 球根 + saur: (dinosaur) 恐竜   フシギダネ   \n",
       "1        2  img\\002    Ivysaur   ivy: na + saur: (dinosaur) 恐竜   フシギソウ   \n",
       "\n",
       "                                             jp_etym  \n",
       "0                フシギ: (不思議) mysterious + タネ (種) seed  \n",
       "1  フシギ: (不思議) mysterious + ソウ (草) alt reading for...  "
      ]
     },
     "execution_count": 5,
     "metadata": {},
     "output_type": "execute_result"
    }
   ],
   "source": [
    "xl.head(2)"
   ]
  },
  {
   "cell_type": "code",
   "execution_count": 8,
   "metadata": {},
   "outputs": [
    {
     "data": {
      "text/plain": [
       "pandas.core.frame.DataFrame"
      ]
     },
     "execution_count": 8,
     "metadata": {},
     "output_type": "execute_result"
    }
   ],
   "source": [
    "type(xl)"
   ]
  },
  {
   "cell_type": "code",
   "execution_count": 10,
   "metadata": {},
   "outputs": [],
   "source": [
    "import sqlite3\n",
    "db_file = \"sql_database.db\"\n",
    "try:\n",
    "    conn = sqlite3.connect(db_file)\n",
    "    xl.to_sql(\"main\", conn)\n",
    "finally:\n",
    "    conn.close()"
   ]
  },
  {
   "cell_type": "code",
   "execution_count": null,
   "metadata": {},
   "outputs": [],
   "source": []
  }
 ],
 "metadata": {
  "kernelspec": {
   "display_name": "Python 3",
   "language": "python",
   "name": "python3"
  },
  "language_info": {
   "codemirror_mode": {
    "name": "ipython",
    "version": 3
   },
   "file_extension": ".py",
   "mimetype": "text/x-python",
   "name": "python",
   "nbconvert_exporter": "python",
   "pygments_lexer": "ipython3",
   "version": "3.6.5"
  }
 },
 "nbformat": 4,
 "nbformat_minor": 2
}
