{
 "cells": [
  {
   "cell_type": "code",
   "execution_count": 1,
   "metadata": {},
   "outputs": [],
   "source": [
    "import pandas as pd\n",
    "import numpy as np\n",
    "from matplotlib import pyplot as plt\n",
    "from sklearn import preprocessing\n",
    "from sklearn.model_selection import train_test_split\n",
    "from sklearn.linear_model import LogisticRegression\n",
    "from sklearn.svm import SVC\n",
    "from sklearn.metrics import accuracy_score\n",
    "%matplotlib inline\n",
    "\n",
    "# method to encode data values to integers for training/predictions\n",
    "def encode_data(data):\n",
    "    return_data = pd.DataFrame()\n",
    "    labelEncoder = preprocessing.LabelEncoder()\n",
    "    for col in data.columns:\n",
    "        return_data[col] = labelEncoder.fit_transform(data[col])\n",
    "    return return_data"
   ]
  },
  {
   "cell_type": "code",
   "execution_count": 7,
   "metadata": {},
   "outputs": [],
   "source": [
    "# import training data\n",
    "training_data = encode_data(pd.read_csv(\"train.csv\"))\n",
    "\n",
    "# split training data between vector and labels\n",
    "all_y = training_data.iloc[:,0]\n",
    "all_x = training_data.iloc[:,1:]\n",
    "\n",
    "# # use 25% of training data to test accuracy of training\n",
    "train_x, test_x, train_y, test_y = train_test_split(all_x,all_y,test_size=.2)"
   ]
  },
  {
   "cell_type": "code",
   "execution_count": 8,
   "metadata": {
    "scrolled": true
   },
   "outputs": [
    {
     "name": "stdout",
     "output_type": "stream",
     "text": [
      "Accuracy Log_Reg: 0.9646643109540636\n"
     ]
    }
   ],
   "source": [
    "# train model\n",
    "lr = LogisticRegression()\n",
    "lr.fit(train_x, train_y)\n",
    "print ('Accuracy Log_Reg: ' + str(accuracy_score(test_y, lr.predict(test_x))))"
   ]
  },
  {
   "cell_type": "code",
   "execution_count": 9,
   "metadata": {},
   "outputs": [
    {
     "name": "stdout",
     "output_type": "stream",
     "text": [
      "Accuracy Lin_Reg: 0.9673144876325088\n"
     ]
    }
   ],
   "source": [
    "lin_reg = SVC(kernel='linear')\n",
    "lin_reg.fit(train_x, train_y)\n",
    "print ('Accuracy Lin_Reg: ' + str(accuracy_score(test_y, lin_reg.predict(test_x))))"
   ]
  },
  {
   "cell_type": "code",
   "execution_count": 10,
   "metadata": {},
   "outputs": [
    {
     "data": {
      "text/html": [
       "<div>\n",
       "<style scoped>\n",
       "    .dataframe tbody tr th:only-of-type {\n",
       "        vertical-align: middle;\n",
       "    }\n",
       "\n",
       "    .dataframe tbody tr th {\n",
       "        vertical-align: top;\n",
       "    }\n",
       "\n",
       "    .dataframe thead th {\n",
       "        text-align: right;\n",
       "    }\n",
       "</style>\n",
       "<table border=\"1\" class=\"dataframe\">\n",
       "  <thead>\n",
       "    <tr style=\"text-align: right;\">\n",
       "      <th></th>\n",
       "      <th>class</th>\n",
       "      <th>Id</th>\n",
       "    </tr>\n",
       "  </thead>\n",
       "  <tbody>\n",
       "    <tr>\n",
       "      <th>0</th>\n",
       "      <td>e</td>\n",
       "      <td>11</td>\n",
       "    </tr>\n",
       "    <tr>\n",
       "      <th>1</th>\n",
       "      <td>e</td>\n",
       "      <td>20</td>\n",
       "    </tr>\n",
       "    <tr>\n",
       "      <th>2</th>\n",
       "      <td>e</td>\n",
       "      <td>23</td>\n",
       "    </tr>\n",
       "    <tr>\n",
       "      <th>3</th>\n",
       "      <td>p</td>\n",
       "      <td>25</td>\n",
       "    </tr>\n",
       "    <tr>\n",
       "      <th>4</th>\n",
       "      <td>e</td>\n",
       "      <td>28</td>\n",
       "    </tr>\n",
       "    <tr>\n",
       "      <th>5</th>\n",
       "      <td>e</td>\n",
       "      <td>29</td>\n",
       "    </tr>\n",
       "    <tr>\n",
       "      <th>6</th>\n",
       "      <td>e</td>\n",
       "      <td>30</td>\n",
       "    </tr>\n",
       "    <tr>\n",
       "      <th>7</th>\n",
       "      <td>e</td>\n",
       "      <td>36</td>\n",
       "    </tr>\n",
       "    <tr>\n",
       "      <th>8</th>\n",
       "      <td>e</td>\n",
       "      <td>41</td>\n",
       "    </tr>\n",
       "    <tr>\n",
       "      <th>9</th>\n",
       "      <td>e</td>\n",
       "      <td>50</td>\n",
       "    </tr>\n",
       "  </tbody>\n",
       "</table>\n",
       "</div>"
      ],
      "text/plain": [
       "  class  Id\n",
       "0     e  11\n",
       "1     e  20\n",
       "2     e  23\n",
       "3     p  25\n",
       "4     e  28\n",
       "5     e  29\n",
       "6     e  30\n",
       "7     e  36\n",
       "8     e  41\n",
       "9     e  50"
      ]
     },
     "execution_count": 10,
     "metadata": {},
     "output_type": "execute_result"
    }
   ],
   "source": [
    "# import test data\n",
    "test_noncoded = pd.read_csv(\"test.csv\")\n",
    "test_data = encode_data(test_noncoded)\n",
    "\n",
    "# make predictions\n",
    "predictions = list(lin_reg.predict(test_data))\n",
    "\n",
    "# create submission file\n",
    "classes = ['e' if p == 0 else 'p' for p in predictions]\n",
    "test_noncoded['class'] = classes\n",
    "submit = test_noncoded[['class','Id']]\n",
    "submit.to_csv('submission.csv', index=False)\n",
    "submit.head(10)"
   ]
  },
  {
   "cell_type": "code",
   "execution_count": null,
   "metadata": {},
   "outputs": [],
   "source": []
  },
  {
   "cell_type": "code",
   "execution_count": null,
   "metadata": {},
   "outputs": [],
   "source": []
  }
 ],
 "metadata": {
  "kernelspec": {
   "display_name": "Python 3",
   "language": "python",
   "name": "python3"
  },
  "language_info": {
   "codemirror_mode": {
    "name": "ipython",
    "version": 3
   },
   "file_extension": ".py",
   "mimetype": "text/x-python",
   "name": "python",
   "nbconvert_exporter": "python",
   "pygments_lexer": "ipython3",
   "version": "3.6.5"
  }
 },
 "nbformat": 4,
 "nbformat_minor": 2
}
