{
 "cells": [
  {
   "cell_type": "code",
   "execution_count": 3,
   "metadata": {},
   "outputs": [],
   "source": [
    "import pandas as pd\n",
    "from fuzzywuzzy import fuzz, process\n",
    "import os\n",
    "import py_entitymatching as em\n",
    "import pandas_profiling"
   ]
  },
  {
   "cell_type": "code",
   "execution_count": 4,
   "metadata": {},
   "outputs": [],
   "source": [
    "with open(\"test.csv\") as file:\n",
    "    test_data = pd.read_csv(file)\n",
    "with open(\"ltable.csv\") as file:\n",
    "    ltable = pd.read_csv(file)\n",
    "with open(\"rtable.csv\") as file:\n",
    "    rtable = pd.read_csv(file)\n",
    "with open(\"train.csv\") as file:\n",
    "    train_data = pd.read_csv(file)"
   ]
  },
  {
   "cell_type": "code",
   "execution_count": 5,
   "metadata": {},
   "outputs": [],
   "source": [
    "def to_utf8(input_file, output_file=None, write_mode = 'x'):\n",
    "    if not output_file:\n",
    "        file, extension = os.path.splitext(input_file)\n",
    "        output_file = file + '_utf8' + extension\n",
    "    with open(input_file) as old:\n",
    "        content= old.read()\n",
    "    with open(output_file, mode=write_mode,encoding='utf-8') as new:\n",
    "        new.write(content)\n",
    "    return output_file"
   ]
  },
  {
   "cell_type": "code",
   "execution_count": 6,
   "metadata": {},
   "outputs": [
    {
     "name": "stderr",
     "output_type": "stream",
     "text": [
      "Metadata file is not present in the given path; proceeding to read the csv file.\n",
      "Metadata file is not present in the given path; proceeding to read the csv file.\n"
     ]
    }
   ],
   "source": [
    "A = em.read_csv_metadata(to_utf8('ltable.csv', write_mode='w'),key='ltable_id')\n",
    "B = em.read_csv_metadata(to_utf8('rtable.csv', write_mode='w'),key='rtable_id')"
   ]
  },
  {
   "cell_type": "code",
   "execution_count": 7,
   "metadata": {},
   "outputs": [
    {
     "name": "stderr",
     "output_type": "stream",
     "text": [
      "C:\\Users\\John\\Anaconda3\\lib\\site-packages\\pandas\\core\\generic.py:4384: FutureWarning: Attribute 'is_copy' is deprecated and will be removed in a future version.\n",
      "  object.__getattribute__(self, name)\n",
      "C:\\Users\\John\\Anaconda3\\lib\\site-packages\\pandas\\core\\generic.py:4385: FutureWarning: Attribute 'is_copy' is deprecated and will be removed in a future version.\n",
      "  return object.__setattr__(self, name, value)\n",
      "0% [##############################] 100% | ETA: 00:00:00\n",
      "Total time elapsed: 00:00:21\n"
     ]
    }
   ],
   "source": [
    "ob = em.OverlapBlocker()\n",
    "C = ob.block_tables(A, B, 'title', 'title', \n",
    "                    l_output_attrs=[ 'ltable_id', 'title','category', 'brand', 'modelno'],\n",
    "                    r_output_attrs=[ 'rtable_id', 'title','category', 'brand', 'modelno'],\n",
    "                    overlap_size=1, show_progress=True)"
   ]
  },
  {
   "cell_type": "code",
   "execution_count": 9,
   "metadata": {},
   "outputs": [
    {
     "data": {
      "text/html": [
       "<div>\n",
       "<style scoped>\n",
       "    .dataframe tbody tr th:only-of-type {\n",
       "        vertical-align: middle;\n",
       "    }\n",
       "\n",
       "    .dataframe tbody tr th {\n",
       "        vertical-align: top;\n",
       "    }\n",
       "\n",
       "    .dataframe thead th {\n",
       "        text-align: right;\n",
       "    }\n",
       "</style>\n",
       "<table border=\"1\" class=\"dataframe\">\n",
       "  <thead>\n",
       "    <tr style=\"text-align: right;\">\n",
       "      <th></th>\n",
       "      <th>_id</th>\n",
       "      <th>ltable_ltable_id</th>\n",
       "      <th>rtable_rtable_id</th>\n",
       "      <th>ltable_title</th>\n",
       "      <th>ltable_category</th>\n",
       "      <th>ltable_brand</th>\n",
       "      <th>ltable_modelno</th>\n",
       "      <th>rtable_title</th>\n",
       "      <th>rtable_category</th>\n",
       "      <th>rtable_brand</th>\n",
       "      <th>rtable_modelno</th>\n",
       "    </tr>\n",
       "  </thead>\n",
       "  <tbody>\n",
       "    <tr>\n",
       "      <th>0</th>\n",
       "      <td>0</td>\n",
       "      <td>70</td>\n",
       "      <td>0</td>\n",
       "      <td>panasonic stereo earbud headphones rp-hv21 green</td>\n",
       "      <td>electronics - general</td>\n",
       "      <td>panasonic</td>\n",
       "      <td>rphv21g</td>\n",
       "      <td>koss eq50 3-band stereo equalizer</td>\n",
       "      <td>headphone accessories</td>\n",
       "      <td>koss</td>\n",
       "      <td>152132</td>\n",
       "    </tr>\n",
       "    <tr>\n",
       "      <th>1</th>\n",
       "      <td>1</td>\n",
       "      <td>105</td>\n",
       "      <td>0</td>\n",
       "      <td>koss stereophones with flexible headband design</td>\n",
       "      <td>electronics - general</td>\n",
       "      <td>koss</td>\n",
       "      <td>sporta-pro</td>\n",
       "      <td>koss eq50 3-band stereo equalizer</td>\n",
       "      <td>headphone accessories</td>\n",
       "      <td>koss</td>\n",
       "      <td>152132</td>\n",
       "    </tr>\n",
       "    <tr>\n",
       "      <th>2</th>\n",
       "      <td>2</td>\n",
       "      <td>293</td>\n",
       "      <td>0</td>\n",
       "      <td>coby deep base stereo headphones cv121</td>\n",
       "      <td>electronics - general</td>\n",
       "      <td>coby</td>\n",
       "      <td>cv121</td>\n",
       "      <td>koss eq50 3-band stereo equalizer</td>\n",
       "      <td>headphone accessories</td>\n",
       "      <td>koss</td>\n",
       "      <td>152132</td>\n",
       "    </tr>\n",
       "    <tr>\n",
       "      <th>3</th>\n",
       "      <td>3</td>\n",
       "      <td>490</td>\n",
       "      <td>0</td>\n",
       "      <td>coby pink high-performance isolation stereo earphones cvem79pnk</td>\n",
       "      <td>electronics - general</td>\n",
       "      <td>coby</td>\n",
       "      <td>cvem79pnk</td>\n",
       "      <td>koss eq50 3-band stereo equalizer</td>\n",
       "      <td>headphone accessories</td>\n",
       "      <td>koss</td>\n",
       "      <td>152132</td>\n",
       "    </tr>\n",
       "    <tr>\n",
       "      <th>4</th>\n",
       "      <td>4</td>\n",
       "      <td>514</td>\n",
       "      <td>0</td>\n",
       "      <td>ihome portable stereo alarm clock with ipod dock gunmetal</td>\n",
       "      <td>electronics - general</td>\n",
       "      <td>ihome</td>\n",
       "      <td>ih16g</td>\n",
       "      <td>koss eq50 3-band stereo equalizer</td>\n",
       "      <td>headphone accessories</td>\n",
       "      <td>koss</td>\n",
       "      <td>152132</td>\n",
       "    </tr>\n",
       "  </tbody>\n",
       "</table>\n",
       "</div>"
      ],
      "text/plain": [
       "   _id  ltable_ltable_id  rtable_rtable_id  \\\n",
       "0    0                70                 0   \n",
       "1    1               105                 0   \n",
       "2    2               293                 0   \n",
       "3    3               490                 0   \n",
       "4    4               514                 0   \n",
       "\n",
       "                                                      ltable_title  \\\n",
       "0                 panasonic stereo earbud headphones rp-hv21 green   \n",
       "1                  koss stereophones with flexible headband design   \n",
       "2                           coby deep base stereo headphones cv121   \n",
       "3  coby pink high-performance isolation stereo earphones cvem79pnk   \n",
       "4        ihome portable stereo alarm clock with ipod dock gunmetal   \n",
       "\n",
       "         ltable_category ltable_brand ltable_modelno  \\\n",
       "0  electronics - general    panasonic        rphv21g   \n",
       "1  electronics - general         koss     sporta-pro   \n",
       "2  electronics - general         coby          cv121   \n",
       "3  electronics - general         coby      cvem79pnk   \n",
       "4  electronics - general        ihome          ih16g   \n",
       "\n",
       "                        rtable_title        rtable_category rtable_brand  \\\n",
       "0  koss eq50 3-band stereo equalizer  headphone accessories         koss   \n",
       "1  koss eq50 3-band stereo equalizer  headphone accessories         koss   \n",
       "2  koss eq50 3-band stereo equalizer  headphone accessories         koss   \n",
       "3  koss eq50 3-band stereo equalizer  headphone accessories         koss   \n",
       "4  koss eq50 3-band stereo equalizer  headphone accessories         koss   \n",
       "\n",
       "  rtable_modelno  \n",
       "0         152132  \n",
       "1         152132  \n",
       "2         152132  \n",
       "3         152132  \n",
       "4         152132  "
      ]
     },
     "execution_count": 9,
     "metadata": {},
     "output_type": "execute_result"
    }
   ],
   "source": [
    "C.head()"
   ]
  },
  {
   "cell_type": "code",
   "execution_count": 23,
   "metadata": {},
   "outputs": [
    {
     "data": {
      "text/plain": [
       "0           True\n",
       "1           True\n",
       "2           True\n",
       "3           True\n",
       "4           True\n",
       "5           True\n",
       "6           True\n",
       "7           True\n",
       "8           True\n",
       "9           True\n",
       "10          True\n",
       "11          True\n",
       "12          True\n",
       "13          True\n",
       "14          True\n",
       "15          True\n",
       "16          True\n",
       "17          True\n",
       "18          True\n",
       "19          True\n",
       "20          True\n",
       "21          True\n",
       "22          True\n",
       "23          True\n",
       "24          True\n",
       "25          True\n",
       "26          True\n",
       "27          True\n",
       "28          True\n",
       "29          True\n",
       "           ...  \n",
       "7477980    False\n",
       "7477981    False\n",
       "7477982    False\n",
       "7477983    False\n",
       "7477984    False\n",
       "7477985    False\n",
       "7477986    False\n",
       "7477987    False\n",
       "7477988    False\n",
       "7477989    False\n",
       "7477990    False\n",
       "7477991    False\n",
       "7477992    False\n",
       "7477993    False\n",
       "7477994    False\n",
       "7477995    False\n",
       "7477996    False\n",
       "7477997    False\n",
       "7477998    False\n",
       "7477999    False\n",
       "7478000    False\n",
       "7478001    False\n",
       "7478002    False\n",
       "7478003    False\n",
       "7478004    False\n",
       "7478005    False\n",
       "7478006    False\n",
       "7478007    False\n",
       "7478008    False\n",
       "7478009    False\n",
       "Length: 7478010, dtype: bool"
      ]
     },
     "execution_count": 23,
     "metadata": {},
     "output_type": "execute_result"
    }
   ],
   "source": [
    "C[['ltable_ltable_id', 'rtable_rtable_id']].apply(lambda x: bool(x[1] == 0), axis=1)"
   ]
  },
  {
   "cell_type": "code",
   "execution_count": 12,
   "metadata": {},
   "outputs": [
    {
     "name": "stdout",
     "output_type": "stream",
     "text": [
      "_id\n",
      "ltable_ltable_id\n",
      "rtable_rtable_id\n",
      "ltable_title\n",
      "ltable_category\n",
      "ltable_brand\n",
      "ltable_modelno\n",
      "rtable_title\n",
      "rtable_category\n",
      "rtable_brand\n",
      "rtable_modelno\n"
     ]
    }
   ],
   "source": [
    "for val in C.:\n",
    "    print(val)"
   ]
  },
  {
   "cell_type": "code",
   "execution_count": null,
   "metadata": {},
   "outputs": [],
   "source": []
  }
 ],
 "metadata": {
  "kernelspec": {
   "display_name": "Python 3",
   "language": "python",
   "name": "python3"
  },
  "language_info": {
   "codemirror_mode": {
    "name": "ipython",
    "version": 3
   },
   "file_extension": ".py",
   "mimetype": "text/x-python",
   "name": "python",
   "nbconvert_exporter": "python",
   "pygments_lexer": "ipython3",
   "version": "3.6.5"
  }
 },
 "nbformat": 4,
 "nbformat_minor": 2
}
