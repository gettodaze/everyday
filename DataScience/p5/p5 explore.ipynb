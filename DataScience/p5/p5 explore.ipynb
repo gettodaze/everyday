{
 "cells": [
  {
   "cell_type": "markdown",
   "metadata": {},
   "source": [
    "## 1) Exploring with Pandas"
   ]
  },
  {
   "cell_type": "code",
   "execution_count": 10,
   "metadata": {},
   "outputs": [],
   "source": [
    "import pandas as pd"
   ]
  },
  {
   "cell_type": "code",
   "execution_count": 78,
   "metadata": {},
   "outputs": [],
   "source": [
    "with open(\"test.csv\") as file:\n",
    "    test_data = pd.read_csv(file)\n",
    "with open(\"ltable.csv\") as file:\n",
    "    ltable = pd.read_csv(file)\n",
    "with open(\"rtable.csv\") as file:\n",
    "    rtable = pd.read_csv(file)\n",
    "with open(\"train.csv\") as file:\n",
    "    train_data = pd.read_csv(file)"
   ]
  },
  {
   "cell_type": "code",
   "execution_count": 86,
   "metadata": {},
   "outputs": [
    {
     "data": {
      "text/html": [
       "<div>\n",
       "<style scoped>\n",
       "    .dataframe tbody tr th:only-of-type {\n",
       "        vertical-align: middle;\n",
       "    }\n",
       "\n",
       "    .dataframe tbody tr th {\n",
       "        vertical-align: top;\n",
       "    }\n",
       "\n",
       "    .dataframe thead th {\n",
       "        text-align: right;\n",
       "    }\n",
       "</style>\n",
       "<table border=\"1\" class=\"dataframe\">\n",
       "  <thead>\n",
       "    <tr style=\"text-align: right;\">\n",
       "      <th></th>\n",
       "      <th>ltable_id</th>\n",
       "      <th>rtable_id</th>\n",
       "      <th>label</th>\n",
       "      <th>id</th>\n",
       "    </tr>\n",
       "  </thead>\n",
       "  <tbody>\n",
       "    <tr>\n",
       "      <th>0</th>\n",
       "      <td>621</td>\n",
       "      <td>3167</td>\n",
       "      <td>0</td>\n",
       "      <td>1</td>\n",
       "    </tr>\n",
       "    <tr>\n",
       "      <th>1</th>\n",
       "      <td>2115</td>\n",
       "      <td>8789</td>\n",
       "      <td>0</td>\n",
       "      <td>2</td>\n",
       "    </tr>\n",
       "    <tr>\n",
       "      <th>2</th>\n",
       "      <td>278</td>\n",
       "      <td>9064</td>\n",
       "      <td>0</td>\n",
       "      <td>3</td>\n",
       "    </tr>\n",
       "    <tr>\n",
       "      <th>3</th>\n",
       "      <td>1673</td>\n",
       "      <td>13279</td>\n",
       "      <td>0</td>\n",
       "      <td>4</td>\n",
       "    </tr>\n",
       "    <tr>\n",
       "      <th>4</th>\n",
       "      <td>2305</td>\n",
       "      <td>2948</td>\n",
       "      <td>0</td>\n",
       "      <td>5</td>\n",
       "    </tr>\n",
       "    <tr>\n",
       "      <th>5</th>\n",
       "      <td>1543</td>\n",
       "      <td>10366</td>\n",
       "      <td>0</td>\n",
       "      <td>6</td>\n",
       "    </tr>\n",
       "    <tr>\n",
       "      <th>6</th>\n",
       "      <td>88</td>\n",
       "      <td>3269</td>\n",
       "      <td>1</td>\n",
       "      <td>7</td>\n",
       "    </tr>\n",
       "    <tr>\n",
       "      <th>7</th>\n",
       "      <td>768</td>\n",
       "      <td>10397</td>\n",
       "      <td>0</td>\n",
       "      <td>11</td>\n",
       "    </tr>\n",
       "    <tr>\n",
       "      <th>8</th>\n",
       "      <td>2476</td>\n",
       "      <td>18730</td>\n",
       "      <td>0</td>\n",
       "      <td>12</td>\n",
       "    </tr>\n",
       "    <tr>\n",
       "      <th>9</th>\n",
       "      <td>470</td>\n",
       "      <td>10874</td>\n",
       "      <td>1</td>\n",
       "      <td>13</td>\n",
       "    </tr>\n",
       "  </tbody>\n",
       "</table>\n",
       "</div>"
      ],
      "text/plain": [
       "   ltable_id  rtable_id  label  id\n",
       "0        621       3167      0   1\n",
       "1       2115       8789      0   2\n",
       "2        278       9064      0   3\n",
       "3       1673      13279      0   4\n",
       "4       2305       2948      0   5\n",
       "5       1543      10366      0   6\n",
       "6         88       3269      1   7\n",
       "7        768      10397      0  11\n",
       "8       2476      18730      0  12\n",
       "9        470      10874      1  13"
      ]
     },
     "execution_count": 86,
     "metadata": {},
     "output_type": "execute_result"
    }
   ],
   "source": [
    "train_data.head(10)"
   ]
  },
  {
   "cell_type": "code",
   "execution_count": 102,
   "metadata": {},
   "outputs": [
    {
     "name": "stdout",
     "output_type": "stream",
     "text": [
      "\n",
      "------- 1 FALSE --------\n",
      "ltable_id                                                                     2115\n",
      "title        da-lite high power model b manual screen with csr - 84 x 84 av format\n",
      "category                                                     electronics - general\n",
      "brand                                                                      da-lite\n",
      "modelno                                                                      85303\n",
      "price                                                                       372.99\n",
      "Name: 2115, dtype: object\n",
      "rtable_id                                                                                  8789\n",
      "title        da-lite advantage manual with csr - projection screen - 133 in - 16 9 - high power\n",
      "category                                                                     home audio theater\n",
      "brand                                                                                   da-lite\n",
      "modelno                                                                                     NaN\n",
      "price                                                                                    904.95\n",
      "Name: 8789, dtype: object\n",
      "\n",
      "------- 2 FALSE --------\n",
      "ltable_id                                                                                 278\n",
      "title        da-lite hc cinema vision tensioned advantage electrol - av format 8 x 8 diagonal\n",
      "category                                                                electronics - general\n",
      "brand                                                                                 da-lite\n",
      "modelno                                                                                 89939\n",
      "price                                                                                    2595\n",
      "Name: 278, dtype: object\n",
      "rtable_id                                                          9064\n",
      "title        hc da-mat tensioned advantage electrol - av format 50 x 50\n",
      "category                                             projection screens\n",
      "brand                                                           da-lite\n",
      "modelno                                                             NaN\n",
      "price                                                               NaN\n",
      "Name: 9064, dtype: object\n",
      "\n",
      "------- 3 FALSE --------\n",
      "ltable_id                                                      1673\n",
      "title        verbatim 4gb tuff - n - tiny usb 2.0 flash drive green\n",
      "category                                                 usb drives\n",
      "brand                                                      verbatim\n",
      "modelno                                                         NaN\n",
      "price                                                         11.98\n",
      "Name: 1673, dtype: object\n",
      "rtable_id                                                    13279\n",
      "title        verbatim clip-it 4 gb usb 2.0 flash drive 97556 green\n",
      "category                                          usb flash drives\n",
      "brand                                                     verbatim\n",
      "modelno                                                      97556\n",
      "price                                                        10.98\n",
      "Name: 13279, dtype: object\n",
      "\n",
      "------- 4 FALSE --------\n",
      "ltable_id                                                       2305\n",
      "title        clickfree c2 500gb usb 3.0 portable external hard drive\n",
      "category                                                 hard drives\n",
      "brand                                                      clickfree\n",
      "modelno                                                      hd527b3\n",
      "price                                                          84.98\n",
      "Name: 2305, dtype: object\n",
      "rtable_id                                                                   2948\n",
      "title        iomega skin 500 gb usb 2.0 portable external hard drive 35106 black\n",
      "category                                                   computers accessories\n",
      "brand                                                                     iomega\n",
      "modelno                                                                    35106\n",
      "price                                                                      94.49\n",
      "Name: 2948, dtype: object\n",
      "\n",
      "------- 5 FALSE --------\n",
      "ltable_id                                                                                        1543\n",
      "title        apc battery backup 750va back-ups es 120v 10 outlet power supply power-saving ups be750g\n",
      "category                                                                        electronics - general\n",
      "brand                                                                                             apc\n",
      "modelno                                                                                        be750g\n",
      "price                                                                                           95.88\n",
      "Name: 1543, dtype: object\n",
      "rtable_id                                                                    10366\n",
      "title        apc be450g back-ups es 8-outlet 450va 120v uninterrupted power supply\n",
      "category                                            batteries chargers accessories\n",
      "brand                                                                          apc\n",
      "modelno                                                                     be450g\n",
      "price                                                                        55.99\n",
      "Name: 10366, dtype: object\n",
      "\n",
      "------- 6 MATCH --------\n",
      "ltable_id                                                              88\n",
      "title        balt wheasel easel adjustable melamine dry erase board white\n",
      "category                                    stationery & office machinery\n",
      "brand                                                                balt\n",
      "modelno                                                             33250\n",
      "price                                                              239.88\n",
      "Name: 88, dtype: object\n",
      "rtable_id                                                                                 3269\n",
      "title        balt inc. wheasel easel adjustable melamine dry erase board 28 3 4 x 59 1 2 white\n",
      "category                                                                   laminating supplies\n",
      "brand                                                                                  mayline\n",
      "modelno                                                                                    NaN\n",
      "price                                                                                   134.45\n",
      "Name: 3269, dtype: object\n",
      "\n",
      "------- 7 FALSE --------\n",
      "ltable_id                                                 768\n",
      "title        accell ultraav displayport multi-monitor adapter\n",
      "category                                electronics - general\n",
      "brand                                                  accell\n",
      "modelno                                            k087b-005b\n",
      "price                                                  198.35\n",
      "Name: 768, dtype: object\n",
      "rtable_id                                                             10397\n",
      "title        accell ultraav b101b-003b display port with vga active adapter\n",
      "category                                                                NaN\n",
      "brand                                                                accell\n",
      "modelno                                                          b101b-003b\n",
      "price                                                                 24.99\n",
      "Name: 10397, dtype: object\n",
      "\n",
      "------- 8 FALSE --------\n",
      "ltable_id                                        2476\n",
      "title        ifrogz ipod touch 4 luxe lean case white\n",
      "category                              mp3 accessories\n",
      "brand                                          ifrogz\n",
      "modelno                                     it4ll-wht\n",
      "price                                           24.99\n",
      "Name: 2476, dtype: object\n",
      "rtable_id                                                18730\n",
      "title        ifrogz luxe lean case for ipod touch 4g gun metal\n",
      "category                                                 cases\n",
      "brand                                                   ifrogz\n",
      "modelno                                              it4ll-gmt\n",
      "price                                                    11.99\n",
      "Name: 18730, dtype: object\n",
      "\n",
      "------- 9 MATCH --------\n",
      "ltable_id                                            470\n",
      "title        iogear gbu421w6 bluetooth usb micro adapter\n",
      "category                                      networking\n",
      "brand                                             iogear\n",
      "modelno                                         gbu421w6\n",
      "price                                              14.84\n",
      "Name: 470, dtype: object\n",
      "rtable_id                                                                     10874\n",
      "title        iogear bluetooth usb 2.1 micro adapter with tri-language package black\n",
      "category                                                      computers accessories\n",
      "brand                                                                        iogear\n",
      "modelno                                                                    gbu421w6\n",
      "price                                                                         15.17\n",
      "Name: 10874, dtype: object\n"
     ]
    }
   ],
   "source": [
    "for i in range(1, 10):\n",
    "    lid, rid, label, id_num = tuple(train_data.iloc[i,:])\n",
    "    if label:\n",
    "        label = 'MATCH'\n",
    "    else:\n",
    "        label = 'FALSE'\n",
    "    print('\\n-------',repr(i), label,'--------')\n",
    "    print(ltable.iloc[lid])\n",
    "    print(rtable.iloc[rid])"
   ]
  },
  {
   "cell_type": "code",
   "execution_count": 15,
   "metadata": {},
   "outputs": [
    {
     "data": {
      "text/html": [
       "<div>\n",
       "<style scoped>\n",
       "    .dataframe tbody tr th:only-of-type {\n",
       "        vertical-align: middle;\n",
       "    }\n",
       "\n",
       "    .dataframe tbody tr th {\n",
       "        vertical-align: top;\n",
       "    }\n",
       "\n",
       "    .dataframe thead th {\n",
       "        text-align: right;\n",
       "    }\n",
       "</style>\n",
       "<table border=\"1\" class=\"dataframe\">\n",
       "  <thead>\n",
       "    <tr style=\"text-align: right;\">\n",
       "      <th></th>\n",
       "      <th>rtable_id</th>\n",
       "      <th>title</th>\n",
       "      <th>category</th>\n",
       "      <th>brand</th>\n",
       "      <th>modelno</th>\n",
       "      <th>price</th>\n",
       "    </tr>\n",
       "  </thead>\n",
       "  <tbody>\n",
       "    <tr>\n",
       "      <th>0</th>\n",
       "      <td>0</td>\n",
       "      <td>koss eq50 3-band stereo equalizer</td>\n",
       "      <td>headphone accessories</td>\n",
       "      <td>koss</td>\n",
       "      <td>152132</td>\n",
       "      <td>12.65</td>\n",
       "    </tr>\n",
       "    <tr>\n",
       "      <th>1</th>\n",
       "      <td>1</td>\n",
       "      <td>kodak black ink cartridge 10b 1163641</td>\n",
       "      <td>inkjet printer ink</td>\n",
       "      <td>kodak</td>\n",
       "      <td>1163641</td>\n",
       "      <td>10.28</td>\n",
       "    </tr>\n",
       "    <tr>\n",
       "      <th>2</th>\n",
       "      <td>2</td>\n",
       "      <td>kingston 128mx64 pc2700 compaq evo d320 ktc-d3...</td>\n",
       "      <td>computers accessories</td>\n",
       "      <td>kingston</td>\n",
       "      <td>ktc-d320 / 1g</td>\n",
       "      <td>33.75</td>\n",
       "    </tr>\n",
       "    <tr>\n",
       "      <th>3</th>\n",
       "      <td>3</td>\n",
       "      <td>kinamax ms-ues2 mini high precision usb 3-butt...</td>\n",
       "      <td>mice</td>\n",
       "      <td>kinamax</td>\n",
       "      <td>ms-ues2</td>\n",
       "      <td>6.99</td>\n",
       "    </tr>\n",
       "    <tr>\n",
       "      <th>4</th>\n",
       "      <td>4</td>\n",
       "      <td>kensington k72349us wireless mouse for netbooks</td>\n",
       "      <td>mice</td>\n",
       "      <td>kensington</td>\n",
       "      <td>k72349us</td>\n",
       "      <td>24.00</td>\n",
       "    </tr>\n",
       "  </tbody>\n",
       "</table>\n",
       "</div>"
      ],
      "text/plain": [
       "   rtable_id                                              title  \\\n",
       "0          0                  koss eq50 3-band stereo equalizer   \n",
       "1          1              kodak black ink cartridge 10b 1163641   \n",
       "2          2  kingston 128mx64 pc2700 compaq evo d320 ktc-d3...   \n",
       "3          3  kinamax ms-ues2 mini high precision usb 3-butt...   \n",
       "4          4    kensington k72349us wireless mouse for netbooks   \n",
       "\n",
       "                category       brand        modelno  price  \n",
       "0  headphone accessories        koss         152132  12.65  \n",
       "1     inkjet printer ink       kodak        1163641  10.28  \n",
       "2  computers accessories    kingston  ktc-d320 / 1g  33.75  \n",
       "3                   mice     kinamax        ms-ues2   6.99  \n",
       "4                   mice  kensington       k72349us  24.00  "
      ]
     },
     "execution_count": 15,
     "metadata": {},
     "output_type": "execute_result"
    }
   ],
   "source": [
    "rtable.head()"
   ]
  },
  {
   "cell_type": "markdown",
   "metadata": {},
   "source": [
    "## 2) Exploringwith Fuzzywuzzy"
   ]
  },
  {
   "cell_type": "code",
   "execution_count": 89,
   "metadata": {},
   "outputs": [],
   "source": [
    "from fuzzywuzzy import fuzz\n",
    "from fuzzywuzzy import process"
   ]
  },
  {
   "cell_type": "code",
   "execution_count": 90,
   "metadata": {},
   "outputs": [
    {
     "data": {
      "text/plain": [
       "'balt wheasel easel adjustable melamine dry erase board white'"
      ]
     },
     "execution_count": 90,
     "metadata": {},
     "output_type": "execute_result"
    }
   ],
   "source": [
    "# for i in range(5, 10):\n",
    "#     lid, rid, label, id_num = tuple(train_data.iloc[i,:])\n",
    "#     if label:\n",
    "#         label = 'MATCH'\n",
    "#     else:\n",
    "#         label = 'FALSE'\n",
    "#     print('\\n-------',repr(i), label,'--------')\n",
    "#     print(ltable.iloc[lid])\n",
    "#     print(rtable.iloc[rid])"
   ]
  },
  {
   "cell_type": "code",
   "execution_count": null,
   "metadata": {},
   "outputs": [],
   "source": []
  },
  {
   "cell_type": "code",
   "execution_count": 109,
   "metadata": {},
   "outputs": [
    {
     "name": "stdout",
     "output_type": "stream",
     "text": [
      "0 zotac evga \t\t|\t\t zt-40604-10l 01g-p3-1452-tr\n",
      "0 da-lite da-lite \t\t|\t\t 85303 nan\n",
      "0 da-lite da-lite \t\t|\t\t 89939 nan\n",
      "0 verbatim verbatim \t\t|\t\t nan 97556\n",
      "0 clickfree iomega \t\t|\t\t hd527b3 35106\n",
      "0 apc apc \t\t|\t\t be750g be450g\n",
      "1 balt mayline \t\t|\t\t 33250 nan\n",
      "0 accell accell \t\t|\t\t k087b-005b b101b-003b\n",
      "0 ifrogz ifrogz \t\t|\t\t it4ll-wht it4ll-gmt\n",
      "1 iogear iogear \t\t|\t\t gbu421w6 gbu421w6\n",
      "0 da-lite da-lite \t\t|\t\t 87062 with keystone eliminator\n",
      "0 netgear netgear \t\t|\t\t gs716t-200nas fs605na\n",
      "0 da-lite da-lite \t\t|\t\t 27557 nan\n",
      "0 arrowmounts arrowmounts \t\t|\t\t am-p16b nan\n",
      "0 samsung samsung \t\t|\t\t hx-mta64da / g42 hx-mta64da / g32\n",
      "1 arkon griffin technology \t\t|\t\t gb01959 gb01959\n",
      "0 antec antec \t\t|\t\t tricool 92mm dbb tricool 120mm\n",
      "0 canon canon \t\t|\t\t dr-2010c 2455b002\n",
      "0 da-lite da-lite \t\t|\t\t 27544 23056\n",
      "0 boss boss \t\t|\t\t bv9958b bv8966b\n"
     ]
    }
   ],
   "source": [
    "for i in range(20):\n",
    "    lid, rid, label, id_num = tuple(train_data.iloc[i,:])\n",
    "#     print(ltable.iloc[lid].keys())\n",
    "    lbrand, rbrand = ltable.iloc[lid]['brand'], rtable.iloc[rid]['brand']\n",
    "    lmodel, rmodel = ltable.iloc[lid]['modelno'], rtable.iloc[rid]['modelno']\n",
    "    print(label, lbrand,rbrand, '\\t\\t|\\t\\t', lmodel, rmodel)"
   ]
  },
  {
   "cell_type": "code",
   "execution_count": 129,
   "metadata": {},
   "outputs": [
    {
     "name": "stdout",
     "output_type": "stream",
     "text": [
      "\n",
      "\n",
      "\n",
      "\n",
      "\n",
      "\n",
      "\n",
      "\n",
      "\n",
      "\n",
      "\n",
      "\n",
      "\n",
      "\n",
      "\n",
      "\n",
      "\n",
      "\n",
      "\n",
      "\n"
     ]
    }
   ],
   "source": [
    "model_match = 0\n",
    "brand_match = 0\n",
    "positives = 0\n",
    "ratios = []\n",
    "for i in range(len(train_data)):\n",
    "    lid, rid, label, id_num = tuple(train_data.iloc[i,:])\n",
    "    lbrand, rbrand = str(ltable.iloc[lid]['brand']), str(rtable.iloc[rid]['brand'])\n",
    "    lmodel, rmodel = str(ltable.iloc[lid]['modelno']), str(rtable.iloc[rid]['modelno'])\n",
    "    if i < 20:\n",
    "        print()\n",
    "    if 'nan' not in [lbrand, rbrand, lmodel, rmodel]:\n",
    "        ratios.append(\n",
    "            (label,fuzz.ratio(lbrand, rbrand),\n",
    "             fuzz.partial_ratio(lbrand, rbrand), \n",
    "             fuzz.ratio(lmodel,rmodel),\n",
    "             fuzz.partial_ratio(lmodel,rmodel))\n",
    "        )\n",
    "#     if label == 1:\n",
    "#         positives += 1\n",
    "#         if rmodel == lmodel:\n",
    "#             model_match += 1\n",
    "# print(f'Positives: {positives}, Model matches: {model_match}')"
   ]
  },
  {
   "cell_type": "code",
   "execution_count": 133,
   "metadata": {},
   "outputs": [],
   "source": [
    "ratios[:50]\n",
    "pos = [r for r in ratios if r[0] == 1]\n",
    "neg = [r for r in ratios if r[0] == 0]"
   ]
  },
  {
   "cell_type": "code",
   "execution_count": 157,
   "metadata": {},
   "outputs": [
    {
     "name": "stdout",
     "output_type": "stream",
     "text": [
      "[1.0, 94.40492170022371, 97.45413870246085, 87.25055928411633, 89.20805369127517]\n",
      "[0.0, 81.59840810419682, 84.61625663289918, 45.49276410998553, 48.61673902556681]\n"
     ]
    }
   ],
   "source": [
    "def mean(list_of_tuples):\n",
    "    tuple_len = len(list_of_tuples[0])\n",
    "    total = [0 for i in range(tuple_len)]\n",
    "    for t in list_of_tuples:\n",
    "        for i, v in enumerate(t):\n",
    "            total[i] += v\n",
    "    means = list(map(lambda x: x/len(list_of_tuples), total))\n",
    "    return means\n",
    "print(mean(pos))\n",
    "print(mean(neg))"
   ]
  },
  {
   "cell_type": "code",
   "execution_count": 154,
   "metadata": {},
   "outputs": [
    {
     "data": {
      "text/plain": [
       "[11, 12, 13]"
      ]
     },
     "execution_count": 154,
     "metadata": {},
     "output_type": "execute_result"
    }
   ],
   "source": [
    "a = [1,2,3]\n",
    "b = map(lambda x: x+10, a)\n",
    "list(b)"
   ]
  },
  {
   "cell_type": "code",
   "execution_count": 137,
   "metadata": {},
   "outputs": [
    {
     "data": {
      "text/plain": [
       "(0, 0, 1, 1)"
      ]
     },
     "execution_count": 137,
     "metadata": {},
     "output_type": "execute_result"
    }
   ],
   "source": [
    "(0,0) + (1,1)"
   ]
  },
  {
   "cell_type": "code",
   "execution_count": 99,
   "metadata": {},
   "outputs": [
    {
     "data": {
      "text/plain": [
       "ltable_id     621\n",
       "rtable_id    3167\n",
       "label           0\n",
       "id              1\n",
       "Name: 0, dtype: int64"
      ]
     },
     "execution_count": 99,
     "metadata": {},
     "output_type": "execute_result"
    }
   ],
   "source": [
    "train_data.iloc[0]"
   ]
  },
  {
   "cell_type": "markdown",
   "metadata": {},
   "source": [
    "## 3) Exploring with py_entitymatching"
   ]
  },
  {
   "cell_type": "code",
   "execution_count": 64,
   "metadata": {},
   "outputs": [],
   "source": [
    "import os\n",
    "import py_entitymatching as em\n",
    "\n",
    "def to_utf8(input_file, output_file=None, write_mode = 'x'):\n",
    "    if not output_file:\n",
    "        file, extension = os.path.splitext(input_file)\n",
    "        output_file = file + '_utf8' + extension\n",
    "    with open(input_file) as old:\n",
    "        content= old.read()\n",
    "    with open(output_file, mode=write_mode,encoding='utf-8') as new:\n",
    "        new.write(content)\n",
    "    return output_file"
   ]
  },
  {
   "cell_type": "code",
   "execution_count": 65,
   "metadata": {},
   "outputs": [
    {
     "name": "stderr",
     "output_type": "stream",
     "text": [
      "Metadata file is not present in the given path; proceeding to read the csv file.\n",
      "Metadata file is not present in the given path; proceeding to read the csv file.\n"
     ]
    }
   ],
   "source": [
    "# testfile, rtablefile, ltablefile = 'test.csv', 'rtable.csv', 'ltable.csv'\n",
    "rtable = em.read_csv_metadata(to_utf8('rtable.csv', write_mode='w'),key='rtable_id')\n",
    "ltable = em.read_csv_metadata(to_utf8('ltable.csv', write_mode='w'),key='ltable_id')"
   ]
  },
  {
   "cell_type": "code",
   "execution_count": 66,
   "metadata": {},
   "outputs": [],
   "source": [
    "A = ltable\n",
    "B = rtable"
   ]
  },
  {
   "cell_type": "code",
   "execution_count": 67,
   "metadata": {},
   "outputs": [
    {
     "name": "stdout",
     "output_type": "stream",
     "text": [
      "Number of tuples in A: 2554\n",
      "Number of tuples in B: 22074\n",
      "Number of tuples in A X B (i.e the cartesian product): 56376996\n"
     ]
    }
   ],
   "source": [
    "print('Number of tuples in A: ' + str(len(A)))\n",
    "print('Number of tuples in B: ' + str(len(B)))\n",
    "print('Number of tuples in A X B (i.e the cartesian product): ' + str(len(A)*len(B)))"
   ]
  },
  {
   "cell_type": "code",
   "execution_count": 68,
   "metadata": {
    "scrolled": true
   },
   "outputs": [
    {
     "data": {
      "text/html": [
       "<div>\n",
       "<style scoped>\n",
       "    .dataframe tbody tr th:only-of-type {\n",
       "        vertical-align: middle;\n",
       "    }\n",
       "\n",
       "    .dataframe tbody tr th {\n",
       "        vertical-align: top;\n",
       "    }\n",
       "\n",
       "    .dataframe thead th {\n",
       "        text-align: right;\n",
       "    }\n",
       "</style>\n",
       "<table border=\"1\" class=\"dataframe\">\n",
       "  <thead>\n",
       "    <tr style=\"text-align: right;\">\n",
       "      <th></th>\n",
       "      <th>ltable_id</th>\n",
       "      <th>title</th>\n",
       "      <th>category</th>\n",
       "      <th>brand</th>\n",
       "      <th>modelno</th>\n",
       "      <th>price</th>\n",
       "    </tr>\n",
       "  </thead>\n",
       "  <tbody>\n",
       "    <tr>\n",
       "      <th>0</th>\n",
       "      <td>0</td>\n",
       "      <td>draper infrared remote transmitter</td>\n",
       "      <td>electronics - general</td>\n",
       "      <td>draper</td>\n",
       "      <td>121066</td>\n",
       "      <td>58.45</td>\n",
       "    </tr>\n",
       "    <tr>\n",
       "      <th>1</th>\n",
       "      <td>1</td>\n",
       "      <td>epson 1500 hours 200w uhe projector lamp elplp12</td>\n",
       "      <td>monitors</td>\n",
       "      <td>epson</td>\n",
       "      <td>elplp12</td>\n",
       "      <td>438.84</td>\n",
       "    </tr>\n",
       "    <tr>\n",
       "      <th>2</th>\n",
       "      <td>2</td>\n",
       "      <td>comprehensive two-piece 75 precision bnc jack for rg-59 set of 25</td>\n",
       "      <td>tv accessories</td>\n",
       "      <td>comprehensive</td>\n",
       "      <td>bj-2c7559</td>\n",
       "      <td>59.25</td>\n",
       "    </tr>\n",
       "    <tr>\n",
       "      <th>3</th>\n",
       "      <td>3</td>\n",
       "      <td>d-link dcs-1100 network camera</td>\n",
       "      <td>garden - general</td>\n",
       "      <td>d-link</td>\n",
       "      <td>dcs-1100</td>\n",
       "      <td>99.82</td>\n",
       "    </tr>\n",
       "  </tbody>\n",
       "</table>\n",
       "</div>"
      ],
      "text/plain": [
       "   ltable_id  \\\n",
       "0          0   \n",
       "1          1   \n",
       "2          2   \n",
       "3          3   \n",
       "\n",
       "                                                               title  \\\n",
       "0                                 draper infrared remote transmitter   \n",
       "1                   epson 1500 hours 200w uhe projector lamp elplp12   \n",
       "2  comprehensive two-piece 75 precision bnc jack for rg-59 set of 25   \n",
       "3                                     d-link dcs-1100 network camera   \n",
       "\n",
       "                category          brand    modelno   price  \n",
       "0  electronics - general         draper     121066   58.45  \n",
       "1               monitors          epson    elplp12  438.84  \n",
       "2         tv accessories  comprehensive  bj-2c7559   59.25  \n",
       "3       garden - general         d-link   dcs-1100   99.82  "
      ]
     },
     "execution_count": 68,
     "metadata": {},
     "output_type": "execute_result"
    }
   ],
   "source": [
    "A.head(4)"
   ]
  },
  {
   "cell_type": "code",
   "execution_count": 69,
   "metadata": {},
   "outputs": [
    {
     "data": {
      "text/html": [
       "<div>\n",
       "<style scoped>\n",
       "    .dataframe tbody tr th:only-of-type {\n",
       "        vertical-align: middle;\n",
       "    }\n",
       "\n",
       "    .dataframe tbody tr th {\n",
       "        vertical-align: top;\n",
       "    }\n",
       "\n",
       "    .dataframe thead th {\n",
       "        text-align: right;\n",
       "    }\n",
       "</style>\n",
       "<table border=\"1\" class=\"dataframe\">\n",
       "  <thead>\n",
       "    <tr style=\"text-align: right;\">\n",
       "      <th></th>\n",
       "      <th>rtable_id</th>\n",
       "      <th>title</th>\n",
       "      <th>category</th>\n",
       "      <th>brand</th>\n",
       "      <th>modelno</th>\n",
       "      <th>price</th>\n",
       "    </tr>\n",
       "  </thead>\n",
       "  <tbody>\n",
       "    <tr>\n",
       "      <th>0</th>\n",
       "      <td>0</td>\n",
       "      <td>koss eq50 3-band stereo equalizer</td>\n",
       "      <td>headphone accessories</td>\n",
       "      <td>koss</td>\n",
       "      <td>152132</td>\n",
       "      <td>12.65</td>\n",
       "    </tr>\n",
       "    <tr>\n",
       "      <th>1</th>\n",
       "      <td>1</td>\n",
       "      <td>kodak black ink cartridge 10b 1163641</td>\n",
       "      <td>inkjet printer ink</td>\n",
       "      <td>kodak</td>\n",
       "      <td>1163641</td>\n",
       "      <td>10.28</td>\n",
       "    </tr>\n",
       "    <tr>\n",
       "      <th>2</th>\n",
       "      <td>2</td>\n",
       "      <td>kingston 128mx64 pc2700 compaq evo d320 ktc-d320 1g</td>\n",
       "      <td>computers accessories</td>\n",
       "      <td>kingston</td>\n",
       "      <td>ktc-d320 / 1g</td>\n",
       "      <td>33.75</td>\n",
       "    </tr>\n",
       "    <tr>\n",
       "      <th>3</th>\n",
       "      <td>3</td>\n",
       "      <td>kinamax ms-ues2 mini high precision usb 3-button 3d optical scroll wheel mouse with retractable ...</td>\n",
       "      <td>mice</td>\n",
       "      <td>kinamax</td>\n",
       "      <td>ms-ues2</td>\n",
       "      <td>6.99</td>\n",
       "    </tr>\n",
       "  </tbody>\n",
       "</table>\n",
       "</div>"
      ],
      "text/plain": [
       "   rtable_id  \\\n",
       "0          0   \n",
       "1          1   \n",
       "2          2   \n",
       "3          3   \n",
       "\n",
       "                                                                                                 title  \\\n",
       "0                                                                    koss eq50 3-band stereo equalizer   \n",
       "1                                                                kodak black ink cartridge 10b 1163641   \n",
       "2                                                  kingston 128mx64 pc2700 compaq evo d320 ktc-d320 1g   \n",
       "3  kinamax ms-ues2 mini high precision usb 3-button 3d optical scroll wheel mouse with retractable ...   \n",
       "\n",
       "                category     brand        modelno  price  \n",
       "0  headphone accessories      koss         152132  12.65  \n",
       "1     inkjet printer ink     kodak        1163641  10.28  \n",
       "2  computers accessories  kingston  ktc-d320 / 1g  33.75  \n",
       "3                   mice   kinamax        ms-ues2   6.99  "
      ]
     },
     "execution_count": 69,
     "metadata": {},
     "output_type": "execute_result"
    }
   ],
   "source": [
    "B.head(4)"
   ]
  },
  {
   "cell_type": "code",
   "execution_count": 161,
   "metadata": {},
   "outputs": [
    {
     "ename": "TypeError",
     "evalue": "get_features() missing 6 required positional arguments: 'rtable', 'l_attr_types', 'r_attr_types', 'attr_corres', 'tok_funcs', and 'sim_funcs'",
     "output_type": "error",
     "traceback": [
      "\u001b[1;31m---------------------------------------------------------------------------\u001b[0m",
      "\u001b[1;31mTypeError\u001b[0m                                 Traceback (most recent call last)",
      "\u001b[1;32m<ipython-input-161-906f8bd8a410>\u001b[0m in \u001b[0;36m<module>\u001b[1;34m()\u001b[0m\n\u001b[0;32m      2\u001b[0m \u001b[1;31m# Display the keys of the input tables\u001b[0m\u001b[1;33m\u001b[0m\u001b[1;33m\u001b[0m\u001b[0m\n\u001b[0;32m      3\u001b[0m \u001b[0mem\u001b[0m\u001b[1;33m.\u001b[0m\u001b[0mget_key\u001b[0m\u001b[1;33m(\u001b[0m\u001b[0mA\u001b[0m\u001b[1;33m)\u001b[0m\u001b[1;33m,\u001b[0m \u001b[0mem\u001b[0m\u001b[1;33m.\u001b[0m\u001b[0mget_key\u001b[0m\u001b[1;33m(\u001b[0m\u001b[0mB\u001b[0m\u001b[1;33m)\u001b[0m\u001b[1;33m\u001b[0m\u001b[0m\n\u001b[1;32m----> 4\u001b[1;33m \u001b[0mem\u001b[0m\u001b[1;33m.\u001b[0m\u001b[0mget_features\u001b[0m\u001b[1;33m(\u001b[0m\u001b[0mA\u001b[0m\u001b[1;33m)\u001b[0m\u001b[1;33m\u001b[0m\u001b[0m\n\u001b[0m",
      "\u001b[1;31mTypeError\u001b[0m: get_features() missing 6 required positional arguments: 'rtable', 'l_attr_types', 'r_attr_types', 'attr_corres', 'tok_funcs', and 'sim_funcs'"
     ]
    }
   ],
   "source": [
    "\n",
    "# Display the keys of the input tables\n",
    "em.get_key(A), em.get_key(B)"
   ]
  },
  {
   "cell_type": "code",
   "execution_count": 163,
   "metadata": {},
   "outputs": [
    {
     "data": {
      "text/plain": [
       "array([[0, 'draper infrared remote transmitter', 'electronics - general',\n",
       "        'draper', '121066', 58.45],\n",
       "       [1, 'epson 1500 hours 200w uhe projector lamp elplp12',\n",
       "        'monitors', 'epson', 'elplp12', 438.84],\n",
       "       [2,\n",
       "        'comprehensive two-piece 75 precision bnc jack for rg-59 set of 25',\n",
       "        'tv accessories', 'comprehensive', 'bj-2c7559', 59.25],\n",
       "       ...,\n",
       "       [2551, 'dell series 2 color ink', 'printers', 'dell', '330-0048',\n",
       "        35.97],\n",
       "       [2552, 'belkin pro series high integrity monitor cable vga',\n",
       "        'electronics - general', 'belkin', 'f3h982-06', 7.88],\n",
       "       [2553,\n",
       "        'motorola mj270r 27 mile two way radio with 22 channels 121 privacy codes and noaa alert',\n",
       "        'walkie-talkie/frs', 'motorola', 'mj270r', 47.11]], dtype=object)"
      ]
     },
     "execution_count": 163,
     "metadata": {},
     "output_type": "execute_result"
    }
   ],
   "source": []
  },
  {
   "cell_type": "code",
   "execution_count": 71,
   "metadata": {},
   "outputs": [
    {
     "name": "stderr",
     "output_type": "stream",
     "text": [
      "0% [##############################] 100% | ETA: 00:00:00\n",
      "Total time elapsed: 00:00:00\n"
     ]
    }
   ],
   "source": [
    "sample_A, sample_B = em.down_sample(A, B, size=500, y_param=1)"
   ]
  },
  {
   "cell_type": "code",
   "execution_count": 72,
   "metadata": {},
   "outputs": [
    {
     "data": {
      "text/plain": [
       "500"
      ]
     },
     "execution_count": 72,
     "metadata": {},
     "output_type": "execute_result"
    }
   ],
   "source": [
    "len(sample_B)"
   ]
  },
  {
   "cell_type": "code",
   "execution_count": 73,
   "metadata": {},
   "outputs": [],
   "source": [
    "import pandas_profiling\n",
    "profile = pandas_profiling.ProfileReport(A)\n",
    "profile.to_file(outputfile=\"ltable_report.html\")\n",
    "profile = pandas_profiling.ProfileReport(B)\n",
    "profile.to_file(outputfile=\"rtable_report.html\")"
   ]
  },
  {
   "cell_type": "code",
   "execution_count": 165,
   "metadata": {},
   "outputs": [
    {
     "name": "stderr",
     "output_type": "stream",
     "text": [
      "C:\\Users\\John\\Anaconda3\\lib\\site-packages\\pandas\\core\\generic.py:4384: FutureWarning: Attribute 'is_copy' is deprecated and will be removed in a future version.\n",
      "  object.__getattribute__(self, name)\n",
      "C:\\Users\\John\\Anaconda3\\lib\\site-packages\\pandas\\core\\generic.py:4385: FutureWarning: Attribute 'is_copy' is deprecated and will be removed in a future version.\n",
      "  return object.__setattr__(self, name, value)\n",
      "0% [##############################] 100% | ETA: 00:00:00\n",
      "Total time elapsed: 00:00:22\n"
     ]
    }
   ],
   "source": [
    "ob = em.OverlapBlocker()\n",
    "C = ob.block_tables(A, B, 'title', 'title', \n",
    "                    l_output_attrs=[ 'ltable_id', 'title','category', 'brand', 'modelno'],\n",
    "                    r_output_attrs=[ 'rtable_id', 'title','category', 'brand', 'modelno'],\n",
    "                    overlap_size=1, show_progress=True)"
   ]
  },
  {
   "cell_type": "code",
   "execution_count": 166,
   "metadata": {},
   "outputs": [
    {
     "data": {
      "text/html": [
       "<div>\n",
       "<style scoped>\n",
       "    .dataframe tbody tr th:only-of-type {\n",
       "        vertical-align: middle;\n",
       "    }\n",
       "\n",
       "    .dataframe tbody tr th {\n",
       "        vertical-align: top;\n",
       "    }\n",
       "\n",
       "    .dataframe thead th {\n",
       "        text-align: right;\n",
       "    }\n",
       "</style>\n",
       "<table border=\"1\" class=\"dataframe\">\n",
       "  <thead>\n",
       "    <tr style=\"text-align: right;\">\n",
       "      <th></th>\n",
       "      <th>_id</th>\n",
       "      <th>ltable_ltable_id</th>\n",
       "      <th>rtable_rtable_id</th>\n",
       "      <th>ltable_title</th>\n",
       "      <th>ltable_category</th>\n",
       "      <th>ltable_brand</th>\n",
       "      <th>ltable_modelno</th>\n",
       "      <th>rtable_title</th>\n",
       "      <th>rtable_category</th>\n",
       "      <th>rtable_brand</th>\n",
       "      <th>rtable_modelno</th>\n",
       "    </tr>\n",
       "  </thead>\n",
       "  <tbody>\n",
       "    <tr>\n",
       "      <th>0</th>\n",
       "      <td>0</td>\n",
       "      <td>70</td>\n",
       "      <td>0</td>\n",
       "      <td>panasonic stereo earbud headphones rp-hv21 green</td>\n",
       "      <td>electronics - general</td>\n",
       "      <td>panasonic</td>\n",
       "      <td>rphv21g</td>\n",
       "      <td>koss eq50 3-band stereo equalizer</td>\n",
       "      <td>headphone accessories</td>\n",
       "      <td>koss</td>\n",
       "      <td>152132</td>\n",
       "    </tr>\n",
       "    <tr>\n",
       "      <th>1</th>\n",
       "      <td>1</td>\n",
       "      <td>105</td>\n",
       "      <td>0</td>\n",
       "      <td>koss stereophones with flexible headband design</td>\n",
       "      <td>electronics - general</td>\n",
       "      <td>koss</td>\n",
       "      <td>sporta-pro</td>\n",
       "      <td>koss eq50 3-band stereo equalizer</td>\n",
       "      <td>headphone accessories</td>\n",
       "      <td>koss</td>\n",
       "      <td>152132</td>\n",
       "    </tr>\n",
       "    <tr>\n",
       "      <th>2</th>\n",
       "      <td>2</td>\n",
       "      <td>293</td>\n",
       "      <td>0</td>\n",
       "      <td>coby deep base stereo headphones cv121</td>\n",
       "      <td>electronics - general</td>\n",
       "      <td>coby</td>\n",
       "      <td>cv121</td>\n",
       "      <td>koss eq50 3-band stereo equalizer</td>\n",
       "      <td>headphone accessories</td>\n",
       "      <td>koss</td>\n",
       "      <td>152132</td>\n",
       "    </tr>\n",
       "    <tr>\n",
       "      <th>3</th>\n",
       "      <td>3</td>\n",
       "      <td>490</td>\n",
       "      <td>0</td>\n",
       "      <td>coby pink high-performance isolation stereo earphones cvem79pnk</td>\n",
       "      <td>electronics - general</td>\n",
       "      <td>coby</td>\n",
       "      <td>cvem79pnk</td>\n",
       "      <td>koss eq50 3-band stereo equalizer</td>\n",
       "      <td>headphone accessories</td>\n",
       "      <td>koss</td>\n",
       "      <td>152132</td>\n",
       "    </tr>\n",
       "    <tr>\n",
       "      <th>4</th>\n",
       "      <td>4</td>\n",
       "      <td>514</td>\n",
       "      <td>0</td>\n",
       "      <td>ihome portable stereo alarm clock with ipod dock gunmetal</td>\n",
       "      <td>electronics - general</td>\n",
       "      <td>ihome</td>\n",
       "      <td>ih16g</td>\n",
       "      <td>koss eq50 3-band stereo equalizer</td>\n",
       "      <td>headphone accessories</td>\n",
       "      <td>koss</td>\n",
       "      <td>152132</td>\n",
       "    </tr>\n",
       "  </tbody>\n",
       "</table>\n",
       "</div>"
      ],
      "text/plain": [
       "   _id  ltable_ltable_id  rtable_rtable_id  \\\n",
       "0    0                70                 0   \n",
       "1    1               105                 0   \n",
       "2    2               293                 0   \n",
       "3    3               490                 0   \n",
       "4    4               514                 0   \n",
       "\n",
       "                                                      ltable_title  \\\n",
       "0                 panasonic stereo earbud headphones rp-hv21 green   \n",
       "1                  koss stereophones with flexible headband design   \n",
       "2                           coby deep base stereo headphones cv121   \n",
       "3  coby pink high-performance isolation stereo earphones cvem79pnk   \n",
       "4        ihome portable stereo alarm clock with ipod dock gunmetal   \n",
       "\n",
       "         ltable_category ltable_brand ltable_modelno  \\\n",
       "0  electronics - general    panasonic        rphv21g   \n",
       "1  electronics - general         koss     sporta-pro   \n",
       "2  electronics - general         coby          cv121   \n",
       "3  electronics - general         coby      cvem79pnk   \n",
       "4  electronics - general        ihome          ih16g   \n",
       "\n",
       "                        rtable_title        rtable_category rtable_brand  \\\n",
       "0  koss eq50 3-band stereo equalizer  headphone accessories         koss   \n",
       "1  koss eq50 3-band stereo equalizer  headphone accessories         koss   \n",
       "2  koss eq50 3-band stereo equalizer  headphone accessories         koss   \n",
       "3  koss eq50 3-band stereo equalizer  headphone accessories         koss   \n",
       "4  koss eq50 3-band stereo equalizer  headphone accessories         koss   \n",
       "\n",
       "  rtable_modelno  \n",
       "0         152132  \n",
       "1         152132  \n",
       "2         152132  \n",
       "3         152132  \n",
       "4         152132  "
      ]
     },
     "execution_count": 166,
     "metadata": {},
     "output_type": "execute_result"
    }
   ],
   "source": [
    "C.head()"
   ]
  },
  {
   "cell_type": "code",
   "execution_count": 167,
   "metadata": {},
   "outputs": [],
   "source": [
    "# Sample  candidate set\n",
    "S = em.sample_table(C, 450)"
   ]
  },
  {
   "cell_type": "code",
   "execution_count": null,
   "metadata": {},
   "outputs": [
    {
     "name": "stderr",
     "output_type": "stream",
     "text": [
      "Column name (gold) is not present in dataframe\n"
     ]
    }
   ],
   "source": [
    "# Label S\n",
    "G = em.label_table(S, 'gold')"
   ]
  },
  {
   "cell_type": "code",
   "execution_count": null,
   "metadata": {},
   "outputs": [],
   "source": [
    "1\n"
   ]
  },
  {
   "cell_type": "code",
   "execution_count": null,
   "metadata": {},
   "outputs": [],
   "source": []
  }
 ],
 "metadata": {
  "kernelspec": {
   "display_name": "Python 3",
   "language": "python",
   "name": "python3"
  },
  "language_info": {
   "codemirror_mode": {
    "name": "ipython",
    "version": 3
   },
   "file_extension": ".py",
   "mimetype": "text/x-python",
   "name": "python",
   "nbconvert_exporter": "python",
   "pygments_lexer": "ipython3",
   "version": "3.6.5"
  }
 },
 "nbformat": 4,
 "nbformat_minor": 2
}
