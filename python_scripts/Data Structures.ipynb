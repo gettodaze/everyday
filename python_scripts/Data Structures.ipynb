{
 "cells": [
  {
   "cell_type": "code",
   "execution_count": 43,
   "metadata": {},
   "outputs": [],
   "source": [
    "# bag\n",
    "import random\n",
    "class mybag():\n",
    "    def __init__(self, items):\n",
    "        self.items = items\n",
    "    def __repr__(self):\n",
    "        return \"My Bag, contents:\\n \"+repr(self.items)\n",
    "    def add_item(self, item):\n",
    "        self.items.append(item)\n",
    "    def get_item_no_repl(self):\n",
    "        rand_index = int(random.random()*len(self.items))\n",
    "        rand_item = self.items[rand_index]\n",
    "        del self.items[rand_index]\n",
    "        return rand_item\n"
   ]
  },
  {
   "cell_type": "code",
   "execution_count": 62,
   "metadata": {},
   "outputs": [
    {
     "name": "stdout",
     "output_type": "stream",
     "text": [
      "Counter({'a': 416, 'c': 405, 'f': 405, 'b': 391, '3': 383})\n"
     ]
    }
   ],
   "source": [
    "# bag test\n",
    "from collections import Counter\n",
    "outs = []\n",
    "for i in range(2000):\n",
    "    a = mybag(['a','b','c','3'])\n",
    "    a.add_item(random)\n",
    "    outs.append(a.get_item_no_repl())\n",
    "print(Counter(outs))\n"
   ]
  },
  {
   "cell_type": "code",
   "execution_count": 11,
   "metadata": {},
   "outputs": [
    {
     "ename": "ModuleNotFoundError",
     "evalue": "No module named 'hello'",
     "output_type": "error",
     "traceback": [
      "\u001b[1;31m---------------------------------------------------------------------------\u001b[0m",
      "\u001b[1;31mModuleNotFoundError\u001b[0m                       Traceback (most recent call last)",
      "\u001b[1;32m<ipython-input-11-a58fe3bd6ae9>\u001b[0m in \u001b[0;36m<module>\u001b[1;34m()\u001b[0m\n\u001b[0;32m      1\u001b[0m \u001b[1;31m# cython practice\u001b[0m\u001b[1;33m\u001b[0m\u001b[1;33m\u001b[0m\u001b[0m\n\u001b[1;32m----> 2\u001b[1;33m \u001b[1;32mimport\u001b[0m \u001b[0mhello\u001b[0m\u001b[1;33m\u001b[0m\u001b[0m\n\u001b[0m",
      "\u001b[1;31mModuleNotFoundError\u001b[0m: No module named 'hello'"
     ]
    }
   ],
   "source": [
    "# cython practice\n",
    "import hello"
   ]
  },
  {
   "cell_type": "code",
   "execution_count": null,
   "metadata": {},
   "outputs": [],
   "source": []
  }
 ],
 "metadata": {
  "kernelspec": {
   "display_name": "Python 3",
   "language": "python",
   "name": "python3"
  },
  "language_info": {
   "codemirror_mode": {
    "name": "ipython",
    "version": 3
   },
   "file_extension": ".py",
   "mimetype": "text/x-python",
   "name": "python",
   "nbconvert_exporter": "python",
   "pygments_lexer": "ipython3",
   "version": "3.6.5"
  }
 },
 "nbformat": 4,
 "nbformat_minor": 2
}
